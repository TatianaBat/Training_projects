{
 "cells": [
  {
   "cell_type": "markdown",
   "metadata": {
    "collapsed": true
   },
   "source": [
    "# Building A Handwritten Digits Classifier\n",
    "\n",
    "In this Guided Project:\n",
    "\n",
    "* the limitations of traditional machine learning models for image classification will be observed \n",
    "* a few different deep neural networks for image classification will be trained, tested, and improved"
   ]
  },
  {
   "cell_type": "code",
   "execution_count": 2,
   "metadata": {},
   "outputs": [],
   "source": [
    "# libraries\n",
    "import pandas as pd\n",
    "import numpy as np\n",
    "import matplotlib.pyplot as plt\n",
    "%matplotlib inline\n",
    "# import dataset with handwritten digits\n",
    "from sklearn.datasets import load_digits"
   ]
  },
  {
   "cell_type": "code",
   "execution_count": 3,
   "metadata": {},
   "outputs": [],
   "source": [
    "# read data\n",
    "data = load_digits()\n",
    "df = pd.DataFrame(data.data)\n",
    "target = pd.Series(data.target)"
   ]
  },
  {
   "cell_type": "code",
   "execution_count": 4,
   "metadata": {},
   "outputs": [
    {
     "data": {
      "image/png": "[encoded data removed]",
      "text/plain": [
       "<Figure size 432x288 with 8 Axes>"
      ]
     },
     "metadata": {
      "needs_background": "light"
     },
     "output_type": "display_data"
    }
   ],
   "source": [
    "# illustrate examples\n",
    "fig = plt.figure()\n",
    "rows = [0,100,200,300,1000,1100,1200,1300]\n",
    "axes = ['ax{}'.format(x) for x in range(1,9)]\n",
    "for i in range(0,8):\n",
    "    axes[i] = fig.add_subplot(2,4,i+1)\n",
    "    np_image = df.iloc[rows[i]].values.reshape(8,8) \n",
    "    axes[i].imshow(np_image, cmap='gray_r')"
   ]
  },
  {
   "cell_type": "markdown",
   "metadata": {},
   "source": [
    "### K-Nearest Neighbors Model"
   ]
  },
  {
   "cell_type": "code",
   "execution_count": 5,
   "metadata": {},
   "outputs": [],
   "source": [
    "from sklearn.neighbors import KNeighborsClassifier "
   ]
  },
  {
   "cell_type": "code",
   "execution_count": 6,
   "metadata": {},
   "outputs": [],
   "source": [
    "# spliting data train and test\n",
    "n_frac = 0.5\n",
    "train_X = df.sample(frac = n_frac)\n",
    "train_y = target[train_X.index]\n",
    "test_X = df.loc[~df.index.isin(train_X.index)]\n",
    "test_y = target[~target.index.isin(train_X.index)]"
   ]
  },
  {
   "cell_type": "code",
   "execution_count": 7,
   "metadata": {},
   "outputs": [],
   "source": [
    "# function for experiments\n",
    "from sklearn.model_selection import KFold, cross_val_score\n",
    "from sklearn.metrics import accuracy_score\n",
    "\n",
    "# function to train model\n",
    "def train(k, X, y):\n",
    "    knc = KNeighborsClassifier(n_neighbors = k)\n",
    "    knc.fit(X,y)\n",
    "    return knc\n",
    "\n",
    "# function to test model\n",
    "def test(model, X_ts, y_ts):\n",
    "    pr = model.predict(X_ts)\n",
    "    accuracy = accuracy_score(y_ts,pr)\n",
    "    return accuracy\n",
    "\n",
    "# fnction to run model with cross-validation\n",
    "def cross_validate(df, k):\n",
    "    kf = KFold(4, shuffle = True, random_state = 5)\n",
    "    accuracies = []\n",
    "    for train_i, test_i in kf.split(df):\n",
    "        X = df.iloc[train_i]\n",
    "        y = target.iloc[train_i]\n",
    "        X_ts = df.iloc[test_i]\n",
    "        y_ts = target.iloc[test_i]\n",
    "        model = train(k, X, y)\n",
    "        accuracies.append(test(model, X_ts, y_ts))\n",
    "    return np.mean(accuracies)\n",
    "    "
   ]
  },
  {
   "cell_type": "code",
   "execution_count": 8,
   "metadata": {},
   "outputs": [
    {
     "name": "stdout",
     "output_type": "stream",
     "text": [
      "Accuracy with 1 neighbors:  0.9855295718881465\n",
      "Accuracy with 2 neighbors:  0.9816332590942836\n",
      "Accuracy with 3 neighbors:  0.9827456075228903\n",
      "Accuracy with 4 neighbors:  0.9805209106656768\n",
      "Accuracy with 5 neighbors:  0.9827493194753774\n",
      "Accuracy with 6 neighbors:  0.9810789408562237\n",
      "Accuracy with 7 neighbors:  0.9821925266023261\n",
      "Accuracy with 8 neighbors:  0.9805221479831725\n",
      "Accuracy with 9 neighbors:  0.9816357337292749\n",
      "Accuracy with 10 neighbors:  0.9766258351893096\n",
      "Accuracy with 11 neighbors:  0.9782974511259589\n",
      "Accuracy with 12 neighbors:  0.9777406582529077\n",
      "Accuracy with 13 neighbors:  0.9744023756495918\n",
      "Accuracy with 14 neighbors:  0.9738455827765405\n"
     ]
    },
    {
     "data": {
      "text/plain": [
       "[<matplotlib.lines.Line2D at 0x1b015577908>]"
      ]
     },
     "execution_count": 8,
     "metadata": {},
     "output_type": "execute_result"
    },
    {
     "data": {
      "image/png": "[encoded data removed]",
      "text/plain": [
       "<Figure size 432x288 with 1 Axes>"
      ]
     },
     "metadata": {
      "needs_background": "light"
     },
     "output_type": "display_data"
    }
   ],
   "source": [
    "#plot dependence \n",
    "accuracy = []\n",
    "for i in range(1,15):\n",
    "    accuracy.append(cross_validate(df, i))\n",
    "    print('Accuracy with', i, 'neighbors: ', cross_validate(df, i))\n",
    "plt.plot([x for x in range(1,15)],accuracy)"
   ]
  },
  {
   "cell_type": "markdown",
   "metadata": {},
   "source": [
    "The accuracy value is extremely high, tends to fall with number of neighbors in the model\n",
    "\n",
    "There are a few downsides to using k-nearest neighbors:\n",
    "\n",
    "* high memory usage (for each new unseen observation, many comparisons need to be made to seen observations)\n",
    "* no model representation to debug and explore"
   ]
  },
  {
   "cell_type": "markdown",
   "metadata": {},
   "source": [
    "### Neural Network With One Hidden Layer"
   ]
  },
  {
   "cell_type": "code",
   "execution_count": 11,
   "metadata": {},
   "outputs": [],
   "source": [
    "# function for experiments for nn\n",
    "from sklearn.neural_network import MLPClassifier\n",
    "\n",
    "# function to train model nn\n",
    "def train_mpl(k, X, y):\n",
    "    mlp = MLPClassifier(hidden_layer_sizes = (k,), max_iter = 1000)\n",
    "    mlp.fit(X,y)\n",
    "    return mlp\n",
    "\n",
    "# function to test model nn\n",
    "def test_mpl(model, X_ts, y_ts):\n",
    "    pr = model.predict(X_ts)\n",
    "    accuracy = accuracy_score(y_ts,pr)\n",
    "    return accuracy\n",
    "\n",
    "# fnction to run model with cross-validation nn\n",
    "def cross_validate_mpl(df, k):\n",
    "    kf = KFold(4, shuffle = True, random_state = 5)\n",
    "    accuracies_X = []\n",
    "    accuracies_y = []\n",
    "    for train_i, test_i in kf.split(df):\n",
    "        X = df.iloc[train_i]\n",
    "        y = target.iloc[train_i]\n",
    "        X_ts = df.iloc[test_i]\n",
    "        y_ts = target.iloc[test_i]\n",
    "        \n",
    "        model = train_mpl(k, X, y)\n",
    "        \n",
    "        accuracies_X.append(test_mpl(model, X_ts, y_ts))\n",
    "        accuracies_y.append(test_mpl(model, X, y))\n",
    "        \n",
    "    return np.mean(accuracies_X), np.mean(accuracies_y)"
   ]
  },
  {
   "cell_type": "code",
   "execution_count": 12,
   "metadata": {},
   "outputs": [
    {
     "name": "stdout",
     "output_type": "stream",
     "text": [
      "8 neurons: accuracy_X 0.9326565206632023, accuracy_y 0.9996290801186943\n",
      "16 neurons: accuracy_X 0.9560368720613709, accuracy_y 0.9998145400593472\n",
      "32 neurons: accuracy_X 0.9682838406335066, accuracy_y 1.0\n",
      "64 neurons: accuracy_X 0.9654912150457806, accuracy_y 1.0\n",
      "128 neurons: accuracy_X 0.9755134867607028, accuracy_y 1.0\n",
      "256 neurons: accuracy_X 0.9755134867607028, accuracy_y 1.0\n"
     ]
    },
    {
     "data": {
      "text/plain": [
       "[<matplotlib.lines.Line2D at 0x1b015664ac8>,\n",
       " <matplotlib.lines.Line2D at 0x1b015670a88>]"
      ]
     },
     "execution_count": 12,
     "metadata": {},
     "output_type": "execute_result"
    },
    {
     "data": {
      "image/png": "[encoded data removed]",
      "text/plain": [
       "<Figure size 432x288 with 1 Axes>"
      ]
     },
     "metadata": {
      "needs_background": "light"
     },
     "output_type": "display_data"
    }
   ],
   "source": [
    "#plot dependence \n",
    "accuracy = []\n",
    "for i in [8,16,32,64,128,256]:\n",
    "    a = cross_validate_mpl(df, i)\n",
    "    a0 = a[0]\n",
    "    a1 = a[1]\n",
    "    accuracy.append(a)\n",
    "    print('{} neurons: accuracy_X {}, accuracy_y {}'.format(i, a[0], a[1]))\n",
    "plt.plot([8,16,32,64,128,256],accuracy)"
   ]
  },
  {
   "cell_type": "markdown",
   "metadata": {},
   "source": [
    "The accuracy is high, but lower than in KNeighborClassifier\n",
    "NN model perfectly predicts thain value\n",
    "accuracy raises with number of neurons"
   ]
  },
  {
   "cell_type": "markdown",
   "metadata": {},
   "source": [
    "### Neural Network With Two Hidden Layers"
   ]
  },
  {
   "cell_type": "code",
   "execution_count": 13,
   "metadata": {},
   "outputs": [],
   "source": [
    "# function for experiments for nn\n",
    "from sklearn.neural_network import MLPClassifier\n",
    "\n",
    "# function to train model nn\n",
    "def train_mpl(k, X, y):\n",
    "    mlp = MLPClassifier(hidden_layer_sizes = (k,k), max_iter = 1000)\n",
    "    mlp.fit(X,y)\n",
    "    return mlp\n",
    "\n",
    "# function to test model nn\n",
    "def test_mpl(model, X_ts, y_ts):\n",
    "    pr = model.predict(X_ts)\n",
    "    accuracy = accuracy_score(y_ts,pr)\n",
    "    return accuracy\n",
    "\n",
    "# fnction to run model with cross-validation nn\n",
    "def cross_validate_mpl(df, k):\n",
    "    kf = KFold(4, shuffle = True, random_state = 5)\n",
    "    accuracies_X = []\n",
    "    accuracies_y = []\n",
    "    for train_i, test_i in kf.split(df):\n",
    "        X = df.iloc[train_i]\n",
    "        y = target.iloc[train_i]\n",
    "        X_ts = df.iloc[test_i]\n",
    "        y_ts = target.iloc[test_i]\n",
    "        \n",
    "        model = train_mpl(k, X, y)\n",
    "        \n",
    "        accuracies_X.append(test_mpl(model, X_ts, y_ts))\n",
    "        accuracies_y.append(test_mpl(model, X, y))\n",
    "        \n",
    "    return np.mean(accuracies_X), np.mean(accuracies_y)"
   ]
  },
  {
   "cell_type": "code",
   "execution_count": 15,
   "metadata": {},
   "outputs": [
    {
     "name": "stdout",
     "output_type": "stream",
     "text": [
      "64 neurons: accuracy_X 0.9716196486018313, accuracy_y 1.0\n"
     ]
    }
   ],
   "source": [
    "a = cross_validate_mpl(df, 64)\n",
    "a0 = a[0]\n",
    "a1 = a[1]\n",
    "print('{} neurons: accuracy_X {}, accuracy_y {}'.format(64,a[0], a[1]))"
   ]
  },
  {
   "cell_type": "markdown",
   "metadata": {},
   "source": [
    "Accuracy with 2 hidden layers og 64 neurons predicts better than model with 1 layer with 64 neurons"
   ]
  },
  {
   "cell_type": "markdown",
   "metadata": {},
   "source": [
    "### Neural Network With Three Hidden Layers"
   ]
  },
  {
   "cell_type": "code",
   "execution_count": 17,
   "metadata": {},
   "outputs": [],
   "source": [
    "# function for experiments for nn\n",
    "from sklearn.neural_network import MLPClassifier\n",
    "\n",
    "# function to train model nn\n",
    "def train_mpl(k, X, y):\n",
    "    mlp = MLPClassifier(hidden_layer_sizes = (k,k,k), max_iter = 1000)\n",
    "    mlp.fit(X,y)\n",
    "    return mlp\n",
    "\n",
    "# function to test model nn\n",
    "def test_mpl(model, X_ts, y_ts):\n",
    "    pr = model.predict(X_ts)\n",
    "    accuracy = accuracy_score(y_ts,pr)\n",
    "    return accuracy\n",
    "\n",
    "# fnction to run model with cross-validation nn\n",
    "def cross_validate_mpl(df, k):\n",
    "    kf = KFold(6, shuffle = True, random_state = 5)\n",
    "    accuracies_X = []\n",
    "    accuracies_y = []\n",
    "    for train_i, test_i in kf.split(df):\n",
    "        X = df.iloc[train_i]\n",
    "        y = target.iloc[train_i]\n",
    "        X_ts = df.iloc[test_i]\n",
    "        y_ts = target.iloc[test_i]\n",
    "        \n",
    "        model = train_mpl(k, X, y)\n",
    "        \n",
    "        accuracies_X.append(test_mpl(model, X_ts, y_ts))\n",
    "        accuracies_y.append(test_mpl(model, X, y))\n",
    "        \n",
    "    return np.mean(accuracies_X), np.mean(accuracies_y)"
   ]
  },
  {
   "cell_type": "code",
   "execution_count": 18,
   "metadata": {},
   "outputs": [
    {
     "name": "stdout",
     "output_type": "stream",
     "text": [
      "10 neurons: accuracy_X 0.9426681531029358, accuracy_y 0.9998886662213314\n",
      "64 neurons: accuracy_X 0.9749479747305833, accuracy_y 1.0\n",
      "128 neurons: accuracy_X 0.9755146785581568, accuracy_y 1.0\n"
     ]
    },
    {
     "data": {
      "text/plain": [
       "[<matplotlib.lines.Line2D at 0x1b0156e0f08>,\n",
       " <matplotlib.lines.Line2D at 0x1b0156eb188>]"
      ]
     },
     "execution_count": 18,
     "metadata": {},
     "output_type": "execute_result"
    },
    {
     "data": {
      "image/png": "[encoded data removed]",
      "text/plain": [
       "<Figure size 432x288 with 1 Axes>"
      ]
     },
     "metadata": {
      "needs_background": "light"
     },
     "output_type": "display_data"
    }
   ],
   "source": [
    "#plot dependence \n",
    "accuracy = []\n",
    "for i in [10,64,128]:\n",
    "    a = cross_validate_mpl(df, i)\n",
    "    a0 = a[0]\n",
    "    a1 = a[1]\n",
    "    accuracy.append(a)\n",
    "    print('{} neurons: accuracy_X {}, accuracy_y {}'.format(i, a[0], a[1]))\n",
    "plt.plot([10,64,128],accuracy)"
   ]
  },
  {
   "cell_type": "markdown",
   "metadata": {
    "collapsed": true
   },
   "source": [
    "3 layers with 64 neurons predicts better than 2 layers with 64 neurons\n",
    "3 layers with 128 neurons predicts better than 1 layer with 128 neurons\n",
    "\n",
    "Analysis for dataset with digits showed, that generall adding more layers and more neurons to the model makes predictions better"
   ]
  }
 ],
 "metadata": {
  "anaconda-cloud": {},
  "kernelspec": {
   "display_name": "Python 3",
   "language": "python",
   "name": "python3"
  },
  "language_info": {
   "codemirror_mode": {
    "name": "ipython",
    "version": 3
   },
   "file_extension": ".py",
   "mimetype": "text/x-python",
   "name": "python",
   "nbconvert_exporter": "python",
   "pygments_lexer": "ipython3",
   "version": "3.7.4"
  }
 },
 "nbformat": 4,
 "nbformat_minor": 2
}
