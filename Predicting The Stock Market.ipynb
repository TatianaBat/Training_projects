{
 "cells": [
  {
   "cell_type": "markdown",
   "metadata": {},
   "source": [
    "# Predicting the stock market\n",
    "\n",
    "Historical data on the price of the S&P500 Index will be used to make predictions about future prices. Predicting whether an index will go up or down will help to forecast how the stock market as a whole will perform. Since stocks tend to correlate with how well the economy as a whole is performing, it can also help to make economic forecasts."
   ]
  },
  {
   "cell_type": "code",
   "execution_count": 170,
   "metadata": {},
   "outputs": [],
   "source": [
    "import pandas as pd\n",
    "import numpy as np\n",
    "from datetime import datetime"
   ]
  },
  {
   "cell_type": "code",
   "execution_count": 171,
   "metadata": {},
   "outputs": [],
   "source": [
    "df = pd.read_csv('sphist.csv')\n",
    "df['Date'] = pd.to_datetime(df['Date'])\n",
    "df = df.sort_values('Date', ascending = True)"
   ]
  },
  {
   "cell_type": "code",
   "execution_count": 172,
   "metadata": {},
   "outputs": [
    {
     "data": {
      "text/html": [
       "<div>\n",
       "<style scoped>\n",
       "    .dataframe tbody tr th:only-of-type {\n",
       "        vertical-align: middle;\n",
       "    }\n",
       "\n",
       "    .dataframe tbody tr th {\n",
       "        vertical-align: top;\n",
       "    }\n",
       "\n",
       "    .dataframe thead th {\n",
       "        text-align: right;\n",
       "    }\n",
       "</style>\n",
       "<table border=\"1\" class=\"dataframe\">\n",
       "  <thead>\n",
       "    <tr style=\"text-align: right;\">\n",
       "      <th></th>\n",
       "      <th>Date</th>\n",
       "      <th>Open</th>\n",
       "      <th>High</th>\n",
       "      <th>Low</th>\n",
       "      <th>Close</th>\n",
       "      <th>Volume</th>\n",
       "      <th>Adj Close</th>\n",
       "    </tr>\n",
       "  </thead>\n",
       "  <tbody>\n",
       "    <tr>\n",
       "      <td>16589</td>\n",
       "      <td>1950-01-03</td>\n",
       "      <td>16.66</td>\n",
       "      <td>16.66</td>\n",
       "      <td>16.66</td>\n",
       "      <td>16.66</td>\n",
       "      <td>1260000.0</td>\n",
       "      <td>16.66</td>\n",
       "    </tr>\n",
       "    <tr>\n",
       "      <td>16588</td>\n",
       "      <td>1950-01-04</td>\n",
       "      <td>16.85</td>\n",
       "      <td>16.85</td>\n",
       "      <td>16.85</td>\n",
       "      <td>16.85</td>\n",
       "      <td>1890000.0</td>\n",
       "      <td>16.85</td>\n",
       "    </tr>\n",
       "    <tr>\n",
       "      <td>16587</td>\n",
       "      <td>1950-01-05</td>\n",
       "      <td>16.93</td>\n",
       "      <td>16.93</td>\n",
       "      <td>16.93</td>\n",
       "      <td>16.93</td>\n",
       "      <td>2550000.0</td>\n",
       "      <td>16.93</td>\n",
       "    </tr>\n",
       "    <tr>\n",
       "      <td>16586</td>\n",
       "      <td>1950-01-06</td>\n",
       "      <td>16.98</td>\n",
       "      <td>16.98</td>\n",
       "      <td>16.98</td>\n",
       "      <td>16.98</td>\n",
       "      <td>2010000.0</td>\n",
       "      <td>16.98</td>\n",
       "    </tr>\n",
       "    <tr>\n",
       "      <td>16585</td>\n",
       "      <td>1950-01-09</td>\n",
       "      <td>17.08</td>\n",
       "      <td>17.08</td>\n",
       "      <td>17.08</td>\n",
       "      <td>17.08</td>\n",
       "      <td>2520000.0</td>\n",
       "      <td>17.08</td>\n",
       "    </tr>\n",
       "  </tbody>\n",
       "</table>\n",
       "</div>"
      ],
      "text/plain": [
       "            Date   Open   High    Low  Close     Volume  Adj Close\n",
       "16589 1950-01-03  16.66  16.66  16.66  16.66  1260000.0      16.66\n",
       "16588 1950-01-04  16.85  16.85  16.85  16.85  1890000.0      16.85\n",
       "16587 1950-01-05  16.93  16.93  16.93  16.93  2550000.0      16.93\n",
       "16586 1950-01-06  16.98  16.98  16.98  16.98  2010000.0      16.98\n",
       "16585 1950-01-09  17.08  17.08  17.08  17.08  2520000.0      17.08"
      ]
     },
     "execution_count": 172,
     "metadata": {},
     "output_type": "execute_result"
    }
   ],
   "source": [
    "df.head()"
   ]
  },
  {
   "cell_type": "code",
   "execution_count": 173,
   "metadata": {},
   "outputs": [
    {
     "name": "stdout",
     "output_type": "stream",
     "text": [
      "<class 'pandas.core.frame.DataFrame'>\n",
      "RangeIndex: 16590 entries, 0 to 16589\n",
      "Data columns (total 7 columns):\n",
      "Date         16590 non-null datetime64[ns]\n",
      "Open         16590 non-null float64\n",
      "High         16590 non-null float64\n",
      "Low          16590 non-null float64\n",
      "Close        16590 non-null float64\n",
      "Volume       16590 non-null float64\n",
      "Adj Close    16590 non-null float64\n",
      "dtypes: datetime64[ns](1), float64(6)\n",
      "memory usage: 907.4 KB\n"
     ]
    }
   ],
   "source": [
    "df.reset_index(inplace = True, drop = True)\n",
    "df.info()"
   ]
  },
  {
   "cell_type": "markdown",
   "metadata": {},
   "source": [
    "### Generating indicators\n",
    "\n",
    "* The average price from the past 5 days.\n",
    "* The average price for the past 30 days.\n",
    "* The average price for the past 365 days."
   ]
  },
  {
   "cell_type": "code",
   "execution_count": 174,
   "metadata": {},
   "outputs": [],
   "source": [
    "# create columns\n",
    "df['avg_5'] = np.nan\n",
    "df['avg_30'] = np.nan\n",
    "df['avg_365'] = np.nan"
   ]
  },
  {
   "cell_type": "code",
   "execution_count": 175,
   "metadata": {},
   "outputs": [
    {
     "name": "stderr",
     "output_type": "stream",
     "text": [
      "C:\\Users\\Tanya\\Anaconda3\\lib\\site-packages\\ipykernel_launcher.py:4: SettingWithCopyWarning: \n",
      "A value is trying to be set on a copy of a slice from a DataFrame\n",
      "\n",
      "See the caveats in the documentation: http://pandas.pydata.org/pandas-docs/stable/user_guide/indexing.html#returning-a-view-versus-a-copy\n",
      "  after removing the cwd from sys.path.\n",
      "C:\\Users\\Tanya\\Anaconda3\\lib\\site-packages\\ipykernel_launcher.py:5: SettingWithCopyWarning: \n",
      "A value is trying to be set on a copy of a slice from a DataFrame\n",
      "\n",
      "See the caveats in the documentation: http://pandas.pydata.org/pandas-docs/stable/user_guide/indexing.html#returning-a-view-versus-a-copy\n",
      "  \"\"\"\n",
      "C:\\Users\\Tanya\\Anaconda3\\lib\\site-packages\\ipykernel_launcher.py:6: SettingWithCopyWarning: \n",
      "A value is trying to be set on a copy of a slice from a DataFrame\n",
      "\n",
      "See the caveats in the documentation: http://pandas.pydata.org/pandas-docs/stable/user_guide/indexing.html#returning-a-view-versus-a-copy\n",
      "  \n"
     ]
    }
   ],
   "source": [
    "# calculate new indicators\n",
    "for i in range(0, len(df)):\n",
    "    if i>=365:\n",
    "        df['avg_5'][i] = np.mean(df['Close'][i-5:i])\n",
    "        df['avg_30'][i] = np.mean(df['Close'][i-30:i])\n",
    "        df['avg_365'][i] = np.mean(df['Close'][i-365:i])"
   ]
  },
  {
   "cell_type": "code",
   "execution_count": 176,
   "metadata": {},
   "outputs": [
    {
     "data": {
      "text/html": [
       "<div>\n",
       "<style scoped>\n",
       "    .dataframe tbody tr th:only-of-type {\n",
       "        vertical-align: middle;\n",
       "    }\n",
       "\n",
       "    .dataframe tbody tr th {\n",
       "        vertical-align: top;\n",
       "    }\n",
       "\n",
       "    .dataframe thead th {\n",
       "        text-align: right;\n",
       "    }\n",
       "</style>\n",
       "<table border=\"1\" class=\"dataframe\">\n",
       "  <thead>\n",
       "    <tr style=\"text-align: right;\">\n",
       "      <th></th>\n",
       "      <th>Date</th>\n",
       "      <th>Open</th>\n",
       "      <th>High</th>\n",
       "      <th>Low</th>\n",
       "      <th>Close</th>\n",
       "      <th>Volume</th>\n",
       "      <th>Adj Close</th>\n",
       "      <th>avg_5</th>\n",
       "      <th>avg_30</th>\n",
       "      <th>avg_365</th>\n",
       "    </tr>\n",
       "  </thead>\n",
       "  <tbody>\n",
       "    <tr>\n",
       "      <td>365</td>\n",
       "      <td>1951-06-19</td>\n",
       "      <td>22.020000</td>\n",
       "      <td>22.020000</td>\n",
       "      <td>22.020000</td>\n",
       "      <td>22.020000</td>\n",
       "      <td>1100000.0</td>\n",
       "      <td>22.020000</td>\n",
       "      <td>21.800</td>\n",
       "      <td>21.703333</td>\n",
       "      <td>19.447726</td>\n",
       "    </tr>\n",
       "    <tr>\n",
       "      <td>366</td>\n",
       "      <td>1951-06-20</td>\n",
       "      <td>21.910000</td>\n",
       "      <td>21.910000</td>\n",
       "      <td>21.910000</td>\n",
       "      <td>21.910000</td>\n",
       "      <td>1120000.0</td>\n",
       "      <td>21.910000</td>\n",
       "      <td>21.900</td>\n",
       "      <td>21.683000</td>\n",
       "      <td>19.462411</td>\n",
       "    </tr>\n",
       "    <tr>\n",
       "      <td>367</td>\n",
       "      <td>1951-06-21</td>\n",
       "      <td>21.780001</td>\n",
       "      <td>21.780001</td>\n",
       "      <td>21.780001</td>\n",
       "      <td>21.780001</td>\n",
       "      <td>1100000.0</td>\n",
       "      <td>21.780001</td>\n",
       "      <td>21.972</td>\n",
       "      <td>21.659667</td>\n",
       "      <td>19.476274</td>\n",
       "    </tr>\n",
       "    <tr>\n",
       "      <td>368</td>\n",
       "      <td>1951-06-22</td>\n",
       "      <td>21.549999</td>\n",
       "      <td>21.549999</td>\n",
       "      <td>21.549999</td>\n",
       "      <td>21.549999</td>\n",
       "      <td>1340000.0</td>\n",
       "      <td>21.549999</td>\n",
       "      <td>21.960</td>\n",
       "      <td>21.631000</td>\n",
       "      <td>19.489562</td>\n",
       "    </tr>\n",
       "    <tr>\n",
       "      <td>369</td>\n",
       "      <td>1951-06-25</td>\n",
       "      <td>21.290001</td>\n",
       "      <td>21.290001</td>\n",
       "      <td>21.290001</td>\n",
       "      <td>21.290001</td>\n",
       "      <td>2440000.0</td>\n",
       "      <td>21.290001</td>\n",
       "      <td>21.862</td>\n",
       "      <td>21.599000</td>\n",
       "      <td>19.502082</td>\n",
       "    </tr>\n",
       "  </tbody>\n",
       "</table>\n",
       "</div>"
      ],
      "text/plain": [
       "          Date       Open       High        Low      Close     Volume  \\\n",
       "365 1951-06-19  22.020000  22.020000  22.020000  22.020000  1100000.0   \n",
       "366 1951-06-20  21.910000  21.910000  21.910000  21.910000  1120000.0   \n",
       "367 1951-06-21  21.780001  21.780001  21.780001  21.780001  1100000.0   \n",
       "368 1951-06-22  21.549999  21.549999  21.549999  21.549999  1340000.0   \n",
       "369 1951-06-25  21.290001  21.290001  21.290001  21.290001  2440000.0   \n",
       "\n",
       "     Adj Close   avg_5     avg_30    avg_365  \n",
       "365  22.020000  21.800  21.703333  19.447726  \n",
       "366  21.910000  21.900  21.683000  19.462411  \n",
       "367  21.780001  21.972  21.659667  19.476274  \n",
       "368  21.549999  21.960  21.631000  19.489562  \n",
       "369  21.290001  21.862  21.599000  19.502082  "
      ]
     },
     "execution_count": 176,
     "metadata": {},
     "output_type": "execute_result"
    }
   ],
   "source": [
    "# left only rows with estimated indicators\n",
    "df_n = df.iloc[365:,:].copy()\n",
    "df_n.head()"
   ]
  },
  {
   "cell_type": "markdown",
   "metadata": {},
   "source": [
    "### Making predictions"
   ]
  },
  {
   "cell_type": "code",
   "execution_count": 177,
   "metadata": {},
   "outputs": [],
   "source": [
    "# generating train and test\n",
    "train = df_n[df_n[\"Date\"] < datetime(year=2013, month=1, day=1)].copy()\n",
    "test = df_n[df_n[\"Date\"] >= datetime(year=2013, month=1, day=1)].copy()"
   ]
  },
  {
   "cell_type": "code",
   "execution_count": 178,
   "metadata": {},
   "outputs": [],
   "source": [
    "# libraries\n",
    "from sklearn.linear_model import LinearRegression\n",
    "from sklearn.metrics import mean_squared_error as mse"
   ]
  },
  {
   "cell_type": "code",
   "execution_count": 179,
   "metadata": {},
   "outputs": [
    {
     "data": {
      "text/plain": [
       "22.22006532421984"
      ]
     },
     "execution_count": 179,
     "metadata": {},
     "output_type": "execute_result"
    }
   ],
   "source": [
    "# train model with selected indicators\n",
    "lr = LinearRegression()\n",
    "features = ['avg_5','avg_30', 'avg_365']\n",
    "lr.fit(train[features], train['Close'])\n",
    "\n",
    "# make predictions\n",
    "prediction = lr.predict(test[features])\n",
    "mse_1 = mse(prediction,test['Close'])\n",
    "rmse_1 = mse_1**0.5\n",
    "\n",
    "#print rmse\n",
    "rmse_1"
   ]
  },
  {
   "cell_type": "code",
   "execution_count": 180,
   "metadata": {},
   "outputs": [
    {
     "data": {
      "text/plain": [
       "16.142439643554862"
      ]
     },
     "execution_count": 180,
     "metadata": {},
     "output_type": "execute_result"
    }
   ],
   "source": [
    "mae = (prediction - test['Close']).abs().mean()\n",
    "# print mae\n",
    "mae"
   ]
  },
  {
   "cell_type": "markdown",
   "metadata": {},
   "source": [
    "### Improving error"
   ]
  },
  {
   "cell_type": "code",
   "execution_count": 181,
   "metadata": {},
   "outputs": [
    {
     "name": "stderr",
     "output_type": "stream",
     "text": [
      "C:\\Users\\Tanya\\Anaconda3\\lib\\site-packages\\ipykernel_launcher.py:6: SettingWithCopyWarning: \n",
      "A value is trying to be set on a copy of a slice from a DataFrame\n",
      "\n",
      "See the caveats in the documentation: http://pandas.pydata.org/pandas-docs/stable/user_guide/indexing.html#returning-a-view-versus-a-copy\n",
      "  \n",
      "C:\\Users\\Tanya\\Anaconda3\\lib\\site-packages\\ipykernel_launcher.py:7: SettingWithCopyWarning: \n",
      "A value is trying to be set on a copy of a slice from a DataFrame\n",
      "\n",
      "See the caveats in the documentation: http://pandas.pydata.org/pandas-docs/stable/user_guide/indexing.html#returning-a-view-versus-a-copy\n",
      "  import sys\n"
     ]
    }
   ],
   "source": [
    "# adding average volume for past 5 days\n",
    "df['avg_5_vol'] = np.nan\n",
    "df['Year'] = np.nan\n",
    "for i in range(0, len(df)):\n",
    "    if i>=365:\n",
    "        df['avg_5_vol'][i] = np.mean(df['Volume'][i-5:i])\n",
    "        df['Year'][i] = df.iloc[i,0].year"
   ]
  },
  {
   "cell_type": "code",
   "execution_count": 182,
   "metadata": {},
   "outputs": [
    {
     "data": {
      "text/html": [
       "<div>\n",
       "<style scoped>\n",
       "    .dataframe tbody tr th:only-of-type {\n",
       "        vertical-align: middle;\n",
       "    }\n",
       "\n",
       "    .dataframe tbody tr th {\n",
       "        vertical-align: top;\n",
       "    }\n",
       "\n",
       "    .dataframe thead th {\n",
       "        text-align: right;\n",
       "    }\n",
       "</style>\n",
       "<table border=\"1\" class=\"dataframe\">\n",
       "  <thead>\n",
       "    <tr style=\"text-align: right;\">\n",
       "      <th></th>\n",
       "      <th>Date</th>\n",
       "      <th>Open</th>\n",
       "      <th>High</th>\n",
       "      <th>Low</th>\n",
       "      <th>Close</th>\n",
       "      <th>Volume</th>\n",
       "      <th>Adj Close</th>\n",
       "      <th>avg_5</th>\n",
       "      <th>avg_30</th>\n",
       "      <th>avg_365</th>\n",
       "      <th>avg_5_vol</th>\n",
       "      <th>Year</th>\n",
       "    </tr>\n",
       "  </thead>\n",
       "  <tbody>\n",
       "    <tr>\n",
       "      <td>365</td>\n",
       "      <td>1951-06-19</td>\n",
       "      <td>22.020000</td>\n",
       "      <td>22.020000</td>\n",
       "      <td>22.020000</td>\n",
       "      <td>22.020000</td>\n",
       "      <td>1100000.0</td>\n",
       "      <td>22.020000</td>\n",
       "      <td>21.800</td>\n",
       "      <td>21.703333</td>\n",
       "      <td>19.447726</td>\n",
       "      <td>1196000.0</td>\n",
       "      <td>1951.0</td>\n",
       "    </tr>\n",
       "    <tr>\n",
       "      <td>366</td>\n",
       "      <td>1951-06-20</td>\n",
       "      <td>21.910000</td>\n",
       "      <td>21.910000</td>\n",
       "      <td>21.910000</td>\n",
       "      <td>21.910000</td>\n",
       "      <td>1120000.0</td>\n",
       "      <td>21.910000</td>\n",
       "      <td>21.900</td>\n",
       "      <td>21.683000</td>\n",
       "      <td>19.462411</td>\n",
       "      <td>1176000.0</td>\n",
       "      <td>1951.0</td>\n",
       "    </tr>\n",
       "    <tr>\n",
       "      <td>367</td>\n",
       "      <td>1951-06-21</td>\n",
       "      <td>21.780001</td>\n",
       "      <td>21.780001</td>\n",
       "      <td>21.780001</td>\n",
       "      <td>21.780001</td>\n",
       "      <td>1100000.0</td>\n",
       "      <td>21.780001</td>\n",
       "      <td>21.972</td>\n",
       "      <td>21.659667</td>\n",
       "      <td>19.476274</td>\n",
       "      <td>1188000.0</td>\n",
       "      <td>1951.0</td>\n",
       "    </tr>\n",
       "    <tr>\n",
       "      <td>368</td>\n",
       "      <td>1951-06-22</td>\n",
       "      <td>21.549999</td>\n",
       "      <td>21.549999</td>\n",
       "      <td>21.549999</td>\n",
       "      <td>21.549999</td>\n",
       "      <td>1340000.0</td>\n",
       "      <td>21.549999</td>\n",
       "      <td>21.960</td>\n",
       "      <td>21.631000</td>\n",
       "      <td>19.489562</td>\n",
       "      <td>1148000.0</td>\n",
       "      <td>1951.0</td>\n",
       "    </tr>\n",
       "    <tr>\n",
       "      <td>369</td>\n",
       "      <td>1951-06-25</td>\n",
       "      <td>21.290001</td>\n",
       "      <td>21.290001</td>\n",
       "      <td>21.290001</td>\n",
       "      <td>21.290001</td>\n",
       "      <td>2440000.0</td>\n",
       "      <td>21.290001</td>\n",
       "      <td>21.862</td>\n",
       "      <td>21.599000</td>\n",
       "      <td>19.502082</td>\n",
       "      <td>1142000.0</td>\n",
       "      <td>1951.0</td>\n",
       "    </tr>\n",
       "  </tbody>\n",
       "</table>\n",
       "</div>"
      ],
      "text/plain": [
       "          Date       Open       High        Low      Close     Volume  \\\n",
       "365 1951-06-19  22.020000  22.020000  22.020000  22.020000  1100000.0   \n",
       "366 1951-06-20  21.910000  21.910000  21.910000  21.910000  1120000.0   \n",
       "367 1951-06-21  21.780001  21.780001  21.780001  21.780001  1100000.0   \n",
       "368 1951-06-22  21.549999  21.549999  21.549999  21.549999  1340000.0   \n",
       "369 1951-06-25  21.290001  21.290001  21.290001  21.290001  2440000.0   \n",
       "\n",
       "     Adj Close   avg_5     avg_30    avg_365  avg_5_vol    Year  \n",
       "365  22.020000  21.800  21.703333  19.447726  1196000.0  1951.0  \n",
       "366  21.910000  21.900  21.683000  19.462411  1176000.0  1951.0  \n",
       "367  21.780001  21.972  21.659667  19.476274  1188000.0  1951.0  \n",
       "368  21.549999  21.960  21.631000  19.489562  1148000.0  1951.0  \n",
       "369  21.290001  21.862  21.599000  19.502082  1142000.0  1951.0  "
      ]
     },
     "execution_count": 182,
     "metadata": {},
     "output_type": "execute_result"
    }
   ],
   "source": [
    "# left only rows with estimated indicators\n",
    "df_n = df.iloc[365:,:].copy()\n",
    "df_n.head()"
   ]
  },
  {
   "cell_type": "code",
   "execution_count": 183,
   "metadata": {},
   "outputs": [],
   "source": [
    "# generating train and test\n",
    "train = df_n[df_n[\"Date\"] < datetime(year=2013, month=1, day=1)].copy()\n",
    "test = df_n[df_n[\"Date\"] >= datetime(year=2013, month=1, day=1)].copy()"
   ]
  },
  {
   "cell_type": "code",
   "execution_count": 186,
   "metadata": {},
   "outputs": [
    {
     "name": "stdout",
     "output_type": "stream",
     "text": [
      "22.22006532421984 22.241452434792386\n"
     ]
    }
   ],
   "source": [
    "## train with average volume and Year component in Data\n",
    "# train model with selected indicators\n",
    "lr2 = LinearRegression()\n",
    "features = ['avg_5','avg_30', 'avg_365', 'avg_5_vol','Year']\n",
    "lr2.fit(train[features], train['Close'])\n",
    "\n",
    "# make predictions\n",
    "prediction = lr2.predict(test[features])\n",
    "mse_2 = mse(prediction,test['Close'])\n",
    "rmse_2 = mse_2**0.5\n",
    "\n",
    "#print rmse\n",
    "print( rmse_1, rmse_2)"
   ]
  },
  {
   "cell_type": "code",
   "execution_count": 185,
   "metadata": {},
   "outputs": [
    {
     "name": "stdout",
     "output_type": "stream",
     "text": [
      "16.142439643554862 16.194872512262982\n"
     ]
    }
   ],
   "source": [
    "mae_2 = (prediction - test['Close']).abs().mean()\n",
    "# print mae\n",
    "print(mae, mae_2)"
   ]
  },
  {
   "cell_type": "code",
   "execution_count": 187,
   "metadata": {},
   "outputs": [
    {
     "name": "stdout",
     "output_type": "stream",
     "text": [
      "22.22006532421984 22.241452434792386 22.22399778506925\n",
      "16.142439643554862 16.194872512262982 16.147417791850625\n"
     ]
    }
   ],
   "source": [
    "## train with average volume\n",
    "# train model with selected indicators\n",
    "lr2 = LinearRegression()\n",
    "features = ['avg_5','avg_30', 'avg_365', 'avg_5_vol']\n",
    "lr2.fit(train[features], train['Close'])\n",
    "\n",
    "# make predictions\n",
    "prediction = lr2.predict(test[features])\n",
    "mse_3 = mse(prediction,test['Close'])\n",
    "rmse_3 = mse_3**0.5\n",
    "\n",
    "#print rmse\n",
    "print( rmse_1, rmse_2, rmse_3)\n",
    "\n",
    "mae_3 = (prediction - test['Close']).abs().mean()\n",
    "# print mae\n",
    "print(mae, mae_2, mae_3)"
   ]
  },
  {
   "cell_type": "code",
   "execution_count": 188,
   "metadata": {},
   "outputs": [
    {
     "name": "stdout",
     "output_type": "stream",
     "text": [
      "22.22006532421984 22.241452434792386 22.22399778506925 22.235479853742866\n",
      "16.142439643554862 16.194872512262982 16.147417791850625 16.18653012933532\n"
     ]
    }
   ],
   "source": [
    "## train with Year component in Data\n",
    "# train model with selected indicators\n",
    "lr2 = LinearRegression()\n",
    "features = ['avg_5','avg_30', 'avg_365', 'Year']\n",
    "lr2.fit(train[features], train['Close'])\n",
    "\n",
    "# make predictions\n",
    "prediction = lr2.predict(test[features])\n",
    "mse_4 = mse(prediction,test['Close'])\n",
    "rmse_4 = mse_4**0.5\n",
    "\n",
    "#print rmse\n",
    "print( rmse_1, rmse_2, rmse_3, rmse_4)\n",
    "\n",
    "mae_4 = (prediction - test['Close']).abs().mean()\n",
    "# print mae\n",
    "print(mae, mae_2, mae_3, mae_4)"
   ]
  },
  {
   "cell_type": "markdown",
   "metadata": {},
   "source": [
    "Both the Year component in Data and average volume for last 5 days made selected error estimators worse."
   ]
  },
  {
   "cell_type": "markdown",
   "metadata": {},
   "source": [
    "### prediction for one day ahead"
   ]
  },
  {
   "cell_type": "code",
   "execution_count": 196,
   "metadata": {},
   "outputs": [
    {
     "data": {
      "text/html": [
       "<div>\n",
       "<style scoped>\n",
       "    .dataframe tbody tr th:only-of-type {\n",
       "        vertical-align: middle;\n",
       "    }\n",
       "\n",
       "    .dataframe tbody tr th {\n",
       "        vertical-align: top;\n",
       "    }\n",
       "\n",
       "    .dataframe thead th {\n",
       "        text-align: right;\n",
       "    }\n",
       "</style>\n",
       "<table border=\"1\" class=\"dataframe\">\n",
       "  <thead>\n",
       "    <tr style=\"text-align: right;\">\n",
       "      <th></th>\n",
       "      <th>Date</th>\n",
       "      <th>Open</th>\n",
       "      <th>High</th>\n",
       "      <th>Low</th>\n",
       "      <th>Close</th>\n",
       "      <th>Volume</th>\n",
       "      <th>Adj Close</th>\n",
       "      <th>avg_5</th>\n",
       "      <th>avg_30</th>\n",
       "      <th>avg_365</th>\n",
       "      <th>avg_5_vol</th>\n",
       "      <th>Year</th>\n",
       "    </tr>\n",
       "  </thead>\n",
       "  <tbody>\n",
       "    <tr>\n",
       "      <td>16220</td>\n",
       "      <td>2015-12-01</td>\n",
       "      <td>2082.929932</td>\n",
       "      <td>2103.370117</td>\n",
       "      <td>2082.929932</td>\n",
       "      <td>2102.629883</td>\n",
       "      <td>3.712120e+09</td>\n",
       "      <td>2102.629883</td>\n",
       "      <td>2087.024023</td>\n",
       "      <td>2073.984998</td>\n",
       "      <td>2035.531178</td>\n",
       "      <td>3.207544e+09</td>\n",
       "      <td>2015.0</td>\n",
       "    </tr>\n",
       "    <tr>\n",
       "      <td>16221</td>\n",
       "      <td>2015-12-02</td>\n",
       "      <td>2101.709961</td>\n",
       "      <td>2104.270020</td>\n",
       "      <td>2077.110107</td>\n",
       "      <td>2079.510010</td>\n",
       "      <td>3.950640e+09</td>\n",
       "      <td>2079.510010</td>\n",
       "      <td>2090.231982</td>\n",
       "      <td>2076.283993</td>\n",
       "      <td>2035.914082</td>\n",
       "      <td>3.232372e+09</td>\n",
       "      <td>2015.0</td>\n",
       "    </tr>\n",
       "    <tr>\n",
       "      <td>16222</td>\n",
       "      <td>2015-12-03</td>\n",
       "      <td>2080.709961</td>\n",
       "      <td>2085.000000</td>\n",
       "      <td>2042.349976</td>\n",
       "      <td>2049.620117</td>\n",
       "      <td>4.306490e+09</td>\n",
       "      <td>2049.620117</td>\n",
       "      <td>2088.306006</td>\n",
       "      <td>2077.908659</td>\n",
       "      <td>2036.234356</td>\n",
       "      <td>3.245514e+09</td>\n",
       "      <td>2015.0</td>\n",
       "    </tr>\n",
       "    <tr>\n",
       "      <td>16223</td>\n",
       "      <td>2015-12-04</td>\n",
       "      <td>2051.239990</td>\n",
       "      <td>2093.840088</td>\n",
       "      <td>2051.239990</td>\n",
       "      <td>2091.689941</td>\n",
       "      <td>4.214910e+09</td>\n",
       "      <td>2091.689941</td>\n",
       "      <td>2080.456006</td>\n",
       "      <td>2078.931331</td>\n",
       "      <td>2036.507343</td>\n",
       "      <td>3.536224e+09</td>\n",
       "      <td>2015.0</td>\n",
       "    </tr>\n",
       "    <tr>\n",
       "      <td>16224</td>\n",
       "      <td>2015-12-07</td>\n",
       "      <td>2090.419922</td>\n",
       "      <td>2090.419922</td>\n",
       "      <td>2066.780029</td>\n",
       "      <td>2077.070068</td>\n",
       "      <td>4.043820e+09</td>\n",
       "      <td>2077.070068</td>\n",
       "      <td>2080.771973</td>\n",
       "      <td>2080.237329</td>\n",
       "      <td>2036.869425</td>\n",
       "      <td>4.085838e+09</td>\n",
       "      <td>2015.0</td>\n",
       "    </tr>\n",
       "  </tbody>\n",
       "</table>\n",
       "</div>"
      ],
      "text/plain": [
       "            Date         Open         High          Low        Close  \\\n",
       "16220 2015-12-01  2082.929932  2103.370117  2082.929932  2102.629883   \n",
       "16221 2015-12-02  2101.709961  2104.270020  2077.110107  2079.510010   \n",
       "16222 2015-12-03  2080.709961  2085.000000  2042.349976  2049.620117   \n",
       "16223 2015-12-04  2051.239990  2093.840088  2051.239990  2091.689941   \n",
       "16224 2015-12-07  2090.419922  2090.419922  2066.780029  2077.070068   \n",
       "\n",
       "             Volume    Adj Close        avg_5       avg_30      avg_365  \\\n",
       "16220  3.712120e+09  2102.629883  2087.024023  2073.984998  2035.531178   \n",
       "16221  3.950640e+09  2079.510010  2090.231982  2076.283993  2035.914082   \n",
       "16222  4.306490e+09  2049.620117  2088.306006  2077.908659  2036.234356   \n",
       "16223  4.214910e+09  2091.689941  2080.456006  2078.931331  2036.507343   \n",
       "16224  4.043820e+09  2077.070068  2080.771973  2080.237329  2036.869425   \n",
       "\n",
       "          avg_5_vol    Year  \n",
       "16220  3.207544e+09  2015.0  \n",
       "16221  3.232372e+09  2015.0  \n",
       "16222  3.245514e+09  2015.0  \n",
       "16223  3.536224e+09  2015.0  \n",
       "16224  4.085838e+09  2015.0  "
      ]
     },
     "execution_count": 196,
     "metadata": {},
     "output_type": "execute_result"
    }
   ],
   "source": [
    "#reset index\n",
    "df_n.reset_index(inplace = True, drop = True)\n",
    "df_n.tail()"
   ]
  },
  {
   "cell_type": "code",
   "execution_count": 202,
   "metadata": {},
   "outputs": [],
   "source": [
    "# find first index 03-01-2013\n",
    "first_index = df_n[df_n[\"Date\"] == datetime(year=2013, month=1, day=3)].index[0]"
   ]
  },
  {
   "cell_type": "code",
   "execution_count": 209,
   "metadata": {},
   "outputs": [
    {
     "name": "stdout",
     "output_type": "stream",
     "text": [
      "22.22006532421984 22.17030018862854\n",
      "16.142439643554862 [16.06668509]\n"
     ]
    }
   ],
   "source": [
    "predictions = []\n",
    "observations = []\n",
    "features = ['avg_5','avg_30', 'avg_365']\n",
    "\n",
    "for i in range(first_index, len(df_n)):\n",
    "    # generating train and test\n",
    "    train = df_n.iloc[:i,:].copy()\n",
    "    test = df_n.iloc[i,:].copy()\n",
    "    \n",
    "    ## train model\n",
    "    # train model with selected indicators\n",
    "    lr2 = LinearRegression()\n",
    "    lr2.fit(train[features], train['Close'])\n",
    "\n",
    "    # make predictions\n",
    "    prediction = lr2.predict(np.array(test[features]).reshape(1, -1))\n",
    "    predictions.append(prediction)\n",
    "    observations.append(test['Close'])  \n",
    "    \n",
    "mse_5 = mse(predictions,observations)\n",
    "rmse_5 = mse_5**0.5\n",
    "\n",
    "#print rmse\n",
    "print( rmse_1, rmse_5)\n",
    "\n",
    "mae_5 = (pd.Series(predictions) - pd.Series(observations)).abs().mean()\n",
    "# print mae\n",
    "print(mae, mae_5)"
   ]
  },
  {
   "cell_type": "markdown",
   "metadata": {},
   "source": [
    "Error became smaller with prediction for one day ahead "
   ]
  },
  {
   "cell_type": "code",
   "execution_count": null,
   "metadata": {},
   "outputs": [],
   "source": []
  }
 ],
 "metadata": {
  "kernelspec": {
   "display_name": "Python 3",
   "language": "python",
   "name": "python3"
  },
  "language_info": {
   "codemirror_mode": {
    "name": "ipython",
    "version": 3
   },
   "file_extension": ".py",
   "mimetype": "text/x-python",
   "name": "python",
   "nbconvert_exporter": "python",
   "pygments_lexer": "ipython3",
   "version": "3.7.4"
  }
 },
 "nbformat": 4,
 "nbformat_minor": 2
}
