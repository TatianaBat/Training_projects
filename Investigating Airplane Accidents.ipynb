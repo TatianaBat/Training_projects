{
 "cells": [
  {
   "cell_type": "markdown",
   "metadata": {},
   "source": [
    "# Investigating Airplane Accidents\n",
    "\n",
    "Accidents are an unfortunate fact of air travel. Although flying is statistically safer than driving, minor and major flying accidents occur daily.  There is data set of airplane accident statistics to analyze patterns and look for any common threads."
   ]
  },
  {
   "cell_type": "code",
   "execution_count": 159,
   "metadata": {},
   "outputs": [],
   "source": [
    "import pandas as pd\n",
    "import numpy as np"
   ]
  },
  {
   "cell_type": "code",
   "execution_count": 160,
   "metadata": {},
   "outputs": [
    {
     "data": {
      "text/plain": [
       "['Event Id | Investigation Type | Accident Number | Event Date | Location | Country | Latitude | Longitude | Airport Code | Airport Name | Injury Severity | Aircraft Damage | Aircraft Category | Registration Number | Make | Model | Amateur Built | Number of Engines | Engine Type | FAR Description | Schedule | Purpose of Flight | Air Carrier | Total Fatal Injuries | Total Serious Injuries | Total Minor Injuries | Total Uninjured | Weather Condition | Broad Phase of Flight | Report Status | Publication Date | \\n',\n",
       " '20150908X74637 | Accident | CEN15LA402 | 09/08/2015 | Freeport, IL | United States | 42.246111 | -89.581945 | KFEP | albertus Airport | Non-Fatal | Substantial | Unknown | N24TL | CLARKE REGINALD W | DRAGONFLY MK |  |  |  | Part 91: General Aviation |  | Personal |  |  | 1 |  |  | VMC | TAKEOFF | Preliminary | 09/09/2015 | \\n']"
      ]
     },
     "execution_count": 160,
     "metadata": {},
     "output_type": "execute_result"
    }
   ],
   "source": [
    "# reading by rows\n",
    "l = []\n",
    "with open('AviationData.txt') as avia:\n",
    "    for i in avia:\n",
    "        l.append(i)\n",
    "aviation_data = l\n",
    "# the data\n",
    "aviation_data[:2]"
   ]
  },
  {
   "cell_type": "code",
   "execution_count": 161,
   "metadata": {},
   "outputs": [],
   "source": [
    "# create list of list using (|)\n",
    "aviation_list=[]\n",
    "for i in aviation_data:\n",
    "    aviation_list.append(i.split(' | '))"
   ]
  },
  {
   "cell_type": "markdown",
   "metadata": {},
   "source": [
    "finding row with LAX94LA336 accident O(n*m)"
   ]
  },
  {
   "cell_type": "code",
   "execution_count": 162,
   "metadata": {},
   "outputs": [],
   "source": [
    "#The code below is very time consuming, \n",
    "#since we have to search through each row and column\n",
    "lax_code = []\n",
    "for i in aviation_list:\n",
    "    for j in i:\n",
    "        if j=='LAX94LA336': lax_code.append(i)"
   ]
  },
  {
   "cell_type": "markdown",
   "metadata": {},
   "source": [
    "### Linear and Log Time Algorithm"
   ]
  },
  {
   "cell_type": "code",
   "execution_count": 163,
   "metadata": {},
   "outputs": [],
   "source": [
    "# To make search linear O(n) the index of column could be added\n",
    "lax_code = []\n",
    "for i in aviation_list:\n",
    "    if i[2]=='LAX94LA336': lax_code.append(i)"
   ]
  },
  {
   "cell_type": "code",
   "execution_count": 211,
   "metadata": {},
   "outputs": [
    {
     "data": {
      "text/html": [
       "<div>\n",
       "<style scoped>\n",
       "    .dataframe tbody tr th:only-of-type {\n",
       "        vertical-align: middle;\n",
       "    }\n",
       "\n",
       "    .dataframe tbody tr th {\n",
       "        vertical-align: top;\n",
       "    }\n",
       "\n",
       "    .dataframe thead th {\n",
       "        text-align: right;\n",
       "    }\n",
       "</style>\n",
       "<table border=\"1\" class=\"dataframe\">\n",
       "  <thead>\n",
       "    <tr style=\"text-align: right;\">\n",
       "      <th></th>\n",
       "      <th>Event Id</th>\n",
       "      <th>Investigation Type</th>\n",
       "      <th>Accident Number</th>\n",
       "      <th>Event Date</th>\n",
       "      <th>Location</th>\n",
       "      <th>Country</th>\n",
       "      <th>Latitude</th>\n",
       "      <th>Longitude</th>\n",
       "      <th>Airport Code</th>\n",
       "      <th>Airport Name</th>\n",
       "      <th>...</th>\n",
       "      <th>Air Carrier</th>\n",
       "      <th>Total Fatal Injuries</th>\n",
       "      <th>Total Serious Injuries</th>\n",
       "      <th>Total Minor Injuries</th>\n",
       "      <th>Total Uninjured</th>\n",
       "      <th>Weather Condition</th>\n",
       "      <th>Broad Phase of Flight</th>\n",
       "      <th>Report Status</th>\n",
       "      <th>Publication Date</th>\n",
       "      <th>\\n</th>\n",
       "    </tr>\n",
       "  </thead>\n",
       "  <tbody>\n",
       "    <tr>\n",
       "      <td>0</td>\n",
       "      <td>20001212X20184</td>\n",
       "      <td>Accident</td>\n",
       "      <td>ANC00FA018</td>\n",
       "      <td>12/07/1999</td>\n",
       "      <td>BETHEL, AK</td>\n",
       "      <td>United States</td>\n",
       "      <td></td>\n",
       "      <td></td>\n",
       "      <td></td>\n",
       "      <td></td>\n",
       "      <td>...</td>\n",
       "      <td>GRANT AVIATION, INC.</td>\n",
       "      <td>6</td>\n",
       "      <td>0</td>\n",
       "      <td>0</td>\n",
       "      <td>0</td>\n",
       "      <td>IMC</td>\n",
       "      <td>CRUISE</td>\n",
       "      <td>Probable Cause</td>\n",
       "      <td>04/18/2001</td>\n",
       "      <td>\\n</td>\n",
       "    </tr>\n",
       "    <tr>\n",
       "      <td>1</td>\n",
       "      <td>20001212X20436</td>\n",
       "      <td>Accident</td>\n",
       "      <td>ANC00FA024</td>\n",
       "      <td>02/05/2000</td>\n",
       "      <td>ILIAMNA, AK</td>\n",
       "      <td>United States</td>\n",
       "      <td></td>\n",
       "      <td></td>\n",
       "      <td></td>\n",
       "      <td></td>\n",
       "      <td>...</td>\n",
       "      <td></td>\n",
       "      <td>6</td>\n",
       "      <td>0</td>\n",
       "      <td>0</td>\n",
       "      <td>0</td>\n",
       "      <td>UNK</td>\n",
       "      <td>CRUISE</td>\n",
       "      <td>Probable Cause</td>\n",
       "      <td>07/17/2001</td>\n",
       "      <td>\\n</td>\n",
       "    </tr>\n",
       "    <tr>\n",
       "      <td>2</td>\n",
       "      <td>20001212X20930</td>\n",
       "      <td>Accident</td>\n",
       "      <td>ANC00FA052</td>\n",
       "      <td>05/01/2000</td>\n",
       "      <td>KOTZEBUE, AK</td>\n",
       "      <td>United States</td>\n",
       "      <td></td>\n",
       "      <td></td>\n",
       "      <td></td>\n",
       "      <td></td>\n",
       "      <td>...</td>\n",
       "      <td></td>\n",
       "      <td>1</td>\n",
       "      <td>0</td>\n",
       "      <td>0</td>\n",
       "      <td>0</td>\n",
       "      <td>IMC</td>\n",
       "      <td>CRUISE</td>\n",
       "      <td>Probable Cause</td>\n",
       "      <td>07/10/2001</td>\n",
       "      <td>\\n</td>\n",
       "    </tr>\n",
       "    <tr>\n",
       "      <td>3</td>\n",
       "      <td>20001212X20931</td>\n",
       "      <td>Accident</td>\n",
       "      <td>ANC00FA056</td>\n",
       "      <td>05/09/2000</td>\n",
       "      <td>ANCHORAGE, AK</td>\n",
       "      <td>United States</td>\n",
       "      <td></td>\n",
       "      <td></td>\n",
       "      <td>MRI</td>\n",
       "      <td>MERRILL FIELD</td>\n",
       "      <td>...</td>\n",
       "      <td></td>\n",
       "      <td>0</td>\n",
       "      <td>0</td>\n",
       "      <td>0</td>\n",
       "      <td>2</td>\n",
       "      <td>VMC</td>\n",
       "      <td>DESCENT</td>\n",
       "      <td>Probable Cause</td>\n",
       "      <td>07/10/2001</td>\n",
       "      <td>\\n</td>\n",
       "    </tr>\n",
       "    <tr>\n",
       "      <td>4</td>\n",
       "      <td>20001212X21133</td>\n",
       "      <td>Accident</td>\n",
       "      <td>ANC00FA076</td>\n",
       "      <td>06/22/2000</td>\n",
       "      <td>TUNTUTULIAK, AK</td>\n",
       "      <td>United States</td>\n",
       "      <td></td>\n",
       "      <td></td>\n",
       "      <td>AK61</td>\n",
       "      <td>TUNTUTULIAK</td>\n",
       "      <td>...</td>\n",
       "      <td></td>\n",
       "      <td>1</td>\n",
       "      <td>1</td>\n",
       "      <td>0</td>\n",
       "      <td>0</td>\n",
       "      <td>VMC</td>\n",
       "      <td>TAKEOFF</td>\n",
       "      <td>Probable Cause</td>\n",
       "      <td>07/10/2001</td>\n",
       "      <td>\\n</td>\n",
       "    </tr>\n",
       "  </tbody>\n",
       "</table>\n",
       "<p>5 rows × 32 columns</p>\n",
       "</div>"
      ],
      "text/plain": [
       "         Event Id Investigation Type Accident Number  Event Date  \\\n",
       "0  20001212X20184           Accident      ANC00FA018  12/07/1999   \n",
       "1  20001212X20436           Accident      ANC00FA024  02/05/2000   \n",
       "2  20001212X20930           Accident      ANC00FA052  05/01/2000   \n",
       "3  20001212X20931           Accident      ANC00FA056  05/09/2000   \n",
       "4  20001212X21133           Accident      ANC00FA076  06/22/2000   \n",
       "\n",
       "          Location        Country Latitude Longitude Airport Code  \\\n",
       "0       BETHEL, AK  United States                                   \n",
       "1      ILIAMNA, AK  United States                                   \n",
       "2     KOTZEBUE, AK  United States                                   \n",
       "3    ANCHORAGE, AK  United States                             MRI   \n",
       "4  TUNTUTULIAK, AK  United States                            AK61   \n",
       "\n",
       "    Airport Name  ...           Air Carrier Total Fatal Injuries  \\\n",
       "0                 ...  GRANT AVIATION, INC.                    6   \n",
       "1                 ...                                          6   \n",
       "2                 ...                                          1   \n",
       "3  MERRILL FIELD  ...                                          0   \n",
       "4    TUNTUTULIAK  ...                                          1   \n",
       "\n",
       "  Total Serious Injuries Total Minor Injuries Total Uninjured  \\\n",
       "0                      0                    0               0   \n",
       "1                      0                    0               0   \n",
       "2                      0                    0               0   \n",
       "3                      0                    0               2   \n",
       "4                      1                    0               0   \n",
       "\n",
       "  Weather Condition Broad Phase of Flight   Report Status Publication Date  \\n  \n",
       "0               IMC                CRUISE  Probable Cause       04/18/2001  \\n  \n",
       "1               UNK                CRUISE  Probable Cause       07/17/2001  \\n  \n",
       "2               IMC                CRUISE  Probable Cause       07/10/2001  \\n  \n",
       "3               VMC               DESCENT  Probable Cause       07/10/2001  \\n  \n",
       "4               VMC               TAKEOFF  Probable Cause       07/10/2001  \\n  \n",
       "\n",
       "[5 rows x 32 columns]"
      ]
     },
     "execution_count": 211,
     "metadata": {},
     "output_type": "execute_result"
    }
   ],
   "source": [
    "# read in DataFrame\n",
    "a_l = pd.DataFrame(aviation_list[1:], columns = aviation_list[0])\n",
    "# sorting\n",
    "a_l_s = a_l.sort_values(by = 'Accident Number')\n",
    "a_l_s.reset_index(inplace = True, drop=True)\n",
    "a_l_s.head()"
   ]
  },
  {
   "cell_type": "code",
   "execution_count": 212,
   "metadata": {},
   "outputs": [],
   "source": [
    "# implimenting the binary search - log(n) algorithm\n",
    "import math\n",
    "x = 'LAX94LA336'\n",
    "lower_bound = 0\n",
    "upper_bound = len(a_l_s)-1\n",
    "index = math.floor((lower_bound + upper_bound) / 2)\n",
    "guess = a_l_s['Accident Number'][index]\n",
    "while guess != x and upper_bound >= lower_bound:\n",
    "    if x < guess:\n",
    "        upper_bound = index - 1\n",
    "    else:\n",
    "        lower_bound = index + 1\n",
    "    index = math.floor((lower_bound + upper_bound) / 2)\n",
    "    guess = a_l_s['Accident Number'][index]\n",
    "row = a_l_s.iloc[index,:]"
   ]
  },
  {
   "cell_type": "code",
   "execution_count": 213,
   "metadata": {},
   "outputs": [
    {
     "data": {
      "text/plain": [
       "'LAX94LA336'"
      ]
     },
     "execution_count": 213,
     "metadata": {},
     "output_type": "execute_result"
    }
   ],
   "source": [
    "row[2]"
   ]
  },
  {
   "cell_type": "markdown",
   "metadata": {},
   "source": [
    "### Hash Tables"
   ]
  },
  {
   "cell_type": "code",
   "execution_count": 214,
   "metadata": {},
   "outputs": [],
   "source": [
    "# store the data as a list of dictionaries\n",
    "aviation_dict_list = []\n",
    "columns = aviation_data[0].split(' | ')\n",
    "for i in aviation_data:\n",
    "    k = i.split(' | ')\n",
    "    d = {}\n",
    "    for j in range(0,len(k)):\n",
    "        d[columns[j]] = k[j]\n",
    "    aviation_dict_list.append(d)"
   ]
  },
  {
   "cell_type": "code",
   "execution_count": 215,
   "metadata": {},
   "outputs": [
    {
     "data": {
      "text/plain": [
       "{'Event Id': '20001218X45447',\n",
       " 'Investigation Type': 'Accident',\n",
       " 'Accident Number': 'LAX94LA336',\n",
       " 'Event Date': '07/19/1962',\n",
       " 'Location': 'BRIDGEPORT, CA',\n",
       " 'Country': 'United States',\n",
       " 'Latitude': '',\n",
       " 'Longitude': '',\n",
       " 'Airport Code': '',\n",
       " 'Airport Name': '',\n",
       " 'Injury Severity': 'Fatal(4)',\n",
       " 'Aircraft Damage': 'Destroyed',\n",
       " 'Aircraft Category': '',\n",
       " 'Registration Number': 'N5069P',\n",
       " 'Make': 'PIPER',\n",
       " 'Model': 'PA24-180',\n",
       " 'Amateur Built': 'No',\n",
       " 'Number of Engines': '1',\n",
       " 'Engine Type': 'Reciprocating',\n",
       " 'FAR Description': '',\n",
       " 'Schedule': '',\n",
       " 'Purpose of Flight': 'Personal',\n",
       " 'Air Carrier': '',\n",
       " 'Total Fatal Injuries': '4',\n",
       " 'Total Serious Injuries': '0',\n",
       " 'Total Minor Injuries': '0',\n",
       " 'Total Uninjured': '0',\n",
       " 'Weather Condition': 'UNK',\n",
       " 'Broad Phase of Flight': 'UNKNOWN',\n",
       " 'Report Status': 'Probable Cause',\n",
       " 'Publication Date': '09/19/1996',\n",
       " '\\n': '\\n'}"
      ]
     },
     "execution_count": 215,
     "metadata": {},
     "output_type": "execute_result"
    }
   ],
   "source": [
    "# search in a hash table\n",
    "lax_dict = {}\n",
    "for i in aviation_dict_list:\n",
    "    if i['Accident Number'] == 'LAX94LA336':\n",
    "        lax_dict = i\n",
    "lax_dict"
   ]
  },
  {
   "cell_type": "markdown",
   "metadata": {},
   "source": [
    "Search in a list of hash tables is linear O(n). but it is more memory consuming than a list of lists"
   ]
  },
  {
   "cell_type": "markdown",
   "metadata": {},
   "source": [
    "### Accidents by U.S. State\n",
    "\n",
    "count how many accidents occurred in each U.S. state, then determine which state had the most accidents overall.\n",
    "\n",
    "The State could be found in Location column, but with a city. First will be created new column"
   ]
  },
  {
   "cell_type": "code",
   "execution_count": 216,
   "metadata": {},
   "outputs": [],
   "source": [
    "# new column with state\n",
    "a_l['state'] = a_l['Location'].str.split(', ').str[1]"
   ]
  },
  {
   "cell_type": "code",
   "execution_count": 217,
   "metadata": {},
   "outputs": [
    {
     "data": {
      "text/plain": [
       "0    IL\n",
       "1    NH\n",
       "2    SD\n",
       "3    CA\n",
       "4    NJ\n",
       "Name: state, dtype: object"
      ]
     },
     "execution_count": 217,
     "metadata": {},
     "output_type": "execute_result"
    }
   ],
   "source": [
    "a_l['state'].head()"
   ]
  },
  {
   "cell_type": "code",
   "execution_count": 218,
   "metadata": {},
   "outputs": [
    {
     "data": {
      "text/plain": [
       "CA    8030\n",
       "FL    5117\n",
       "TX    5112\n",
       "AK    5049\n",
       "AZ    2502\n",
       "CO    2460\n",
       "WA    2354\n",
       "IL    1874\n",
       "MI    1863\n",
       "GA    1747\n",
       "Name: state, dtype: int64"
      ]
     },
     "execution_count": 218,
     "metadata": {},
     "output_type": "execute_result"
    }
   ],
   "source": [
    "# frequency of accidents by state\n",
    "a_l['state'].value_counts(ascending = False)[:10]"
   ]
  },
  {
   "cell_type": "code",
   "execution_count": 219,
   "metadata": {},
   "outputs": [
    {
     "data": {
      "text/plain": [
       "'CA'"
      ]
     },
     "execution_count": 219,
     "metadata": {},
     "output_type": "execute_result"
    }
   ],
   "source": [
    "#The State with the most frequent accidents\n",
    "state_most_accidents = a_l['state'].value_counts(ascending = False).index[0]\n",
    "state_most_accidents"
   ]
  },
  {
   "cell_type": "markdown",
   "metadata": {},
   "source": [
    "### Fatalities and Injuries by Month\n",
    "\n",
    "count how many fatalities and serious injuries occurred during each month."
   ]
  },
  {
   "cell_type": "code",
   "execution_count": 220,
   "metadata": {},
   "outputs": [
    {
     "name": "stdout",
     "output_type": "stream",
     "text": [
      "0    40358\n",
      "     21489\n",
      "1     7619\n",
      "2     4497\n",
      "3     1408\n",
      "Name: Total Fatal Injuries, dtype: int64\n",
      "0    61847\n",
      "1     7619\n",
      "2     4497\n",
      "3     1408\n",
      "4      977\n",
      "Name: Total Fatal Injuries, dtype: int64\n"
     ]
    }
   ],
   "source": [
    "# blank values in columns Total Fatal Injuries and Total Fatal Injuries\n",
    "# change to zero\n",
    "print(a_l['Total Fatal Injuries'].value_counts()[:5])\n",
    "a_l['Total Fatal Injuries'][a_l['Total Fatal Injuries'] == ''] = int(0) \n",
    "a_l['Total Serious Injuries'][a_l['Total Serious Injuries'] == ''] = int(0)\n",
    "a_l['Total Serious Injuries'] = a_l['Total Serious Injuries'].astype('int')\n",
    "a_l['Total Fatal Injuries'] = a_l['Total Fatal Injuries'].astype('int')\n",
    "print(a_l['Total Fatal Injuries'].value_counts()[:5])"
   ]
  },
  {
   "cell_type": "code",
   "execution_count": 221,
   "metadata": {
    "scrolled": true
   },
   "outputs": [
    {
     "data": {
      "text/html": [
       "<div>\n",
       "<style scoped>\n",
       "    .dataframe tbody tr th:only-of-type {\n",
       "        vertical-align: middle;\n",
       "    }\n",
       "\n",
       "    .dataframe tbody tr th {\n",
       "        vertical-align: top;\n",
       "    }\n",
       "\n",
       "    .dataframe thead th {\n",
       "        text-align: right;\n",
       "    }\n",
       "</style>\n",
       "<table border=\"1\" class=\"dataframe\">\n",
       "  <thead>\n",
       "    <tr style=\"text-align: right;\">\n",
       "      <th></th>\n",
       "      <th>Event Id</th>\n",
       "      <th>Investigation Type</th>\n",
       "      <th>Accident Number</th>\n",
       "      <th>Event Date</th>\n",
       "      <th>Location</th>\n",
       "      <th>Country</th>\n",
       "      <th>Latitude</th>\n",
       "      <th>Longitude</th>\n",
       "      <th>Airport Code</th>\n",
       "      <th>Airport Name</th>\n",
       "      <th>...</th>\n",
       "      <th>Total Serious Injuries</th>\n",
       "      <th>Total Minor Injuries</th>\n",
       "      <th>Total Uninjured</th>\n",
       "      <th>Weather Condition</th>\n",
       "      <th>Broad Phase of Flight</th>\n",
       "      <th>Report Status</th>\n",
       "      <th>Publication Date</th>\n",
       "      <th>\\n</th>\n",
       "      <th>state</th>\n",
       "      <th>total_injuries</th>\n",
       "    </tr>\n",
       "  </thead>\n",
       "  <tbody>\n",
       "    <tr>\n",
       "      <td>0</td>\n",
       "      <td>20150908X74637</td>\n",
       "      <td>Accident</td>\n",
       "      <td>CEN15LA402</td>\n",
       "      <td>09/08/2015</td>\n",
       "      <td>Freeport, IL</td>\n",
       "      <td>United States</td>\n",
       "      <td>42.246111</td>\n",
       "      <td>-89.581945</td>\n",
       "      <td>KFEP</td>\n",
       "      <td>albertus Airport</td>\n",
       "      <td>...</td>\n",
       "      <td>1</td>\n",
       "      <td></td>\n",
       "      <td></td>\n",
       "      <td>VMC</td>\n",
       "      <td>TAKEOFF</td>\n",
       "      <td>Preliminary</td>\n",
       "      <td>09/09/2015</td>\n",
       "      <td>\\n</td>\n",
       "      <td>IL</td>\n",
       "      <td>1</td>\n",
       "    </tr>\n",
       "    <tr>\n",
       "      <td>1</td>\n",
       "      <td>20150906X32704</td>\n",
       "      <td>Accident</td>\n",
       "      <td>ERA15LA339</td>\n",
       "      <td>09/05/2015</td>\n",
       "      <td>Laconia, NH</td>\n",
       "      <td>United States</td>\n",
       "      <td>43.606389</td>\n",
       "      <td>-71.452778</td>\n",
       "      <td>LCI</td>\n",
       "      <td>Laconia Municipal Airport</td>\n",
       "      <td>...</td>\n",
       "      <td>0</td>\n",
       "      <td></td>\n",
       "      <td></td>\n",
       "      <td>VMC</td>\n",
       "      <td>MANEUVERING</td>\n",
       "      <td>Preliminary</td>\n",
       "      <td>09/10/2015</td>\n",
       "      <td>\\n</td>\n",
       "      <td>NH</td>\n",
       "      <td>1</td>\n",
       "    </tr>\n",
       "    <tr>\n",
       "      <td>2</td>\n",
       "      <td>20150908X00229</td>\n",
       "      <td>Accident</td>\n",
       "      <td>GAA15CA251</td>\n",
       "      <td>09/04/2015</td>\n",
       "      <td>Hayes, SD</td>\n",
       "      <td>United States</td>\n",
       "      <td></td>\n",
       "      <td></td>\n",
       "      <td></td>\n",
       "      <td></td>\n",
       "      <td>...</td>\n",
       "      <td>0</td>\n",
       "      <td></td>\n",
       "      <td></td>\n",
       "      <td></td>\n",
       "      <td></td>\n",
       "      <td>Preliminary</td>\n",
       "      <td></td>\n",
       "      <td>\\n</td>\n",
       "      <td>SD</td>\n",
       "      <td>0</td>\n",
       "    </tr>\n",
       "    <tr>\n",
       "      <td>3</td>\n",
       "      <td>20150903X33216</td>\n",
       "      <td>Accident</td>\n",
       "      <td>WPR15FA256</td>\n",
       "      <td>09/03/2015</td>\n",
       "      <td>Santee, CA</td>\n",
       "      <td>United States</td>\n",
       "      <td>32.829445</td>\n",
       "      <td>-116.988611</td>\n",
       "      <td>SEE</td>\n",
       "      <td>GILLESPIE FIELD</td>\n",
       "      <td>...</td>\n",
       "      <td>0</td>\n",
       "      <td></td>\n",
       "      <td></td>\n",
       "      <td>VMC</td>\n",
       "      <td>TAKEOFF</td>\n",
       "      <td>Preliminary</td>\n",
       "      <td>09/09/2015</td>\n",
       "      <td>\\n</td>\n",
       "      <td>CA</td>\n",
       "      <td>2</td>\n",
       "    </tr>\n",
       "    <tr>\n",
       "      <td>4</td>\n",
       "      <td>20150903X34535</td>\n",
       "      <td>Accident</td>\n",
       "      <td>ERA15LA338</td>\n",
       "      <td>09/03/2015</td>\n",
       "      <td>Cresskill, NJ</td>\n",
       "      <td>United States</td>\n",
       "      <td>40.935833</td>\n",
       "      <td>-73.958611</td>\n",
       "      <td></td>\n",
       "      <td>N/A</td>\n",
       "      <td>...</td>\n",
       "      <td>2</td>\n",
       "      <td></td>\n",
       "      <td></td>\n",
       "      <td>VMC</td>\n",
       "      <td></td>\n",
       "      <td>Preliminary</td>\n",
       "      <td>09/10/2015</td>\n",
       "      <td>\\n</td>\n",
       "      <td>NJ</td>\n",
       "      <td>2</td>\n",
       "    </tr>\n",
       "  </tbody>\n",
       "</table>\n",
       "<p>5 rows × 34 columns</p>\n",
       "</div>"
      ],
      "text/plain": [
       "         Event Id Investigation Type Accident Number  Event Date  \\\n",
       "0  20150908X74637           Accident      CEN15LA402  09/08/2015   \n",
       "1  20150906X32704           Accident      ERA15LA339  09/05/2015   \n",
       "2  20150908X00229           Accident      GAA15CA251  09/04/2015   \n",
       "3  20150903X33216           Accident      WPR15FA256  09/03/2015   \n",
       "4  20150903X34535           Accident      ERA15LA338  09/03/2015   \n",
       "\n",
       "        Location        Country   Latitude    Longitude Airport Code  \\\n",
       "0   Freeport, IL  United States  42.246111   -89.581945         KFEP   \n",
       "1    Laconia, NH  United States  43.606389   -71.452778          LCI   \n",
       "2      Hayes, SD  United States                                        \n",
       "3     Santee, CA  United States  32.829445  -116.988611          SEE   \n",
       "4  Cresskill, NJ  United States  40.935833   -73.958611                \n",
       "\n",
       "                Airport Name  ... Total Serious Injuries Total Minor Injuries  \\\n",
       "0           albertus Airport  ...                      1                        \n",
       "1  Laconia Municipal Airport  ...                      0                        \n",
       "2                             ...                      0                        \n",
       "3            GILLESPIE FIELD  ...                      0                        \n",
       "4                        N/A  ...                      2                        \n",
       "\n",
       "  Total Uninjured Weather Condition Broad Phase of Flight Report Status  \\\n",
       "0                               VMC               TAKEOFF   Preliminary   \n",
       "1                               VMC           MANEUVERING   Preliminary   \n",
       "2                                                           Preliminary   \n",
       "3                               VMC               TAKEOFF   Preliminary   \n",
       "4                               VMC                         Preliminary   \n",
       "\n",
       "  Publication Date  \\n state total_injuries  \n",
       "0       09/09/2015  \\n    IL              1  \n",
       "1       09/10/2015  \\n    NH              1  \n",
       "2                   \\n    SD              0  \n",
       "3       09/09/2015  \\n    CA              2  \n",
       "4       09/10/2015  \\n    NJ              2  \n",
       "\n",
       "[5 rows x 34 columns]"
      ]
     },
     "execution_count": 221,
     "metadata": {},
     "output_type": "execute_result"
    }
   ],
   "source": [
    "# create new column monthly_injuries\n",
    "a_l['total_injuries'] = a_l['Total Serious Injuries'] + a_l['Total Fatal Injuries']\n",
    "a_l.head()"
   ]
  },
  {
   "cell_type": "code",
   "execution_count": 222,
   "metadata": {},
   "outputs": [
    {
     "name": "stdout",
     "output_type": "stream",
     "text": [
      "(77278, 34) (77281, 34)\n"
     ]
    }
   ],
   "source": [
    "# drop rows without values in Event Date column \n",
    "indexes_to_drop = a_l['Event Date'][a_l['Event Date'] == '']\n",
    "a_l_clean = a_l.drop(indexes_to_drop.index, axis = 0)\n",
    "print( a_l_clean.shape, a_l.shape)"
   ]
  },
  {
   "cell_type": "code",
   "execution_count": 223,
   "metadata": {},
   "outputs": [],
   "source": [
    "# create new column with month\n",
    "a_l_clean['Event Date'] = pd.to_datetime(a_l_clean['Event Date'],format = '%m/%d/%Y')\n",
    "from datetime import datetime as dt\n",
    "a_l_clean['Month'] = a_l_clean['Event Date'].dt.month"
   ]
  },
  {
   "cell_type": "code",
   "execution_count": 224,
   "metadata": {},
   "outputs": [
    {
     "data": {
      "text/html": [
       "<div>\n",
       "<style scoped>\n",
       "    .dataframe tbody tr th:only-of-type {\n",
       "        vertical-align: middle;\n",
       "    }\n",
       "\n",
       "    .dataframe tbody tr th {\n",
       "        vertical-align: top;\n",
       "    }\n",
       "\n",
       "    .dataframe thead th {\n",
       "        text-align: right;\n",
       "    }\n",
       "</style>\n",
       "<table border=\"1\" class=\"dataframe\">\n",
       "  <thead>\n",
       "    <tr style=\"text-align: right;\">\n",
       "      <th></th>\n",
       "      <th>total_injuries</th>\n",
       "    </tr>\n",
       "    <tr>\n",
       "      <th>Month</th>\n",
       "      <th></th>\n",
       "    </tr>\n",
       "  </thead>\n",
       "  <tbody>\n",
       "    <tr>\n",
       "      <td>1</td>\n",
       "      <td>4224</td>\n",
       "    </tr>\n",
       "    <tr>\n",
       "      <td>2</td>\n",
       "      <td>3907</td>\n",
       "    </tr>\n",
       "    <tr>\n",
       "      <td>3</td>\n",
       "      <td>3797</td>\n",
       "    </tr>\n",
       "    <tr>\n",
       "      <td>4</td>\n",
       "      <td>4318</td>\n",
       "    </tr>\n",
       "    <tr>\n",
       "      <td>5</td>\n",
       "      <td>4955</td>\n",
       "    </tr>\n",
       "    <tr>\n",
       "      <td>6</td>\n",
       "      <td>5191</td>\n",
       "    </tr>\n",
       "    <tr>\n",
       "      <td>7</td>\n",
       "      <td>7003</td>\n",
       "    </tr>\n",
       "    <tr>\n",
       "      <td>8</td>\n",
       "      <td>6924</td>\n",
       "    </tr>\n",
       "    <tr>\n",
       "      <td>9</td>\n",
       "      <td>5529</td>\n",
       "    </tr>\n",
       "    <tr>\n",
       "      <td>10</td>\n",
       "      <td>5092</td>\n",
       "    </tr>\n",
       "    <tr>\n",
       "      <td>11</td>\n",
       "      <td>4995</td>\n",
       "    </tr>\n",
       "    <tr>\n",
       "      <td>12</td>\n",
       "      <td>4747</td>\n",
       "    </tr>\n",
       "  </tbody>\n",
       "</table>\n",
       "</div>"
      ],
      "text/plain": [
       "       total_injuries\n",
       "Month                \n",
       "1                4224\n",
       "2                3907\n",
       "3                3797\n",
       "4                4318\n",
       "5                4955\n",
       "6                5191\n",
       "7                7003\n",
       "8                6924\n",
       "9                5529\n",
       "10               5092\n",
       "11               4995\n",
       "12               4747"
      ]
     },
     "execution_count": 224,
     "metadata": {},
     "output_type": "execute_result"
    }
   ],
   "source": [
    "# display monthly injyries\n",
    "monthly_injuries = a_l_clean.pivot_table(values = 'total_injuries', index = 'Month', aggfunc = np.sum)\n",
    "monthly_injuries"
   ]
  },
  {
   "cell_type": "markdown",
   "metadata": {},
   "source": [
    "Most injuries accure in July, August and September - the furlough months"
   ]
  }
 ],
 "metadata": {
  "kernelspec": {
   "display_name": "Python 3",
   "language": "python",
   "name": "python3"
  },
  "language_info": {
   "codemirror_mode": {
    "name": "ipython",
    "version": 3
   },
   "file_extension": ".py",
   "mimetype": "text/x-python",
   "name": "python",
   "nbconvert_exporter": "python",
   "pygments_lexer": "ipython3",
   "version": "3.7.4"
  }
 },
 "nbformat": 4,
 "nbformat_minor": 2
}
